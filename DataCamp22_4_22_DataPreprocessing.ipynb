{
  "nbformat": 4,
  "nbformat_minor": 0,
  "metadata": {
    "colab": {
      "name": "DataCamp22/4/22-DataPreprocessing.ipynb",
      "provenance": [],
      "collapsed_sections": []
    },
    "kernelspec": {
      "name": "python3",
      "display_name": "Python 3"
    },
    "language_info": {
      "name": "python"
    }
  },
  "cells": [
    {
      "cell_type": "markdown",
      "metadata": {
        "id": "76YpFkbFxAgc"
      },
      "source": [
        "# Noisy data\n",
        "\n",
        "Suppose that we have a dataset in which we have some measured attributes. Now, these attributes might carry some random error or variance. Such errors in attribute values are called as noise in the data.\n",
        "\n",
        "If such errors persist in our data, it will return inaccurate results.\n",
        "\n",
        "Data cleaning methods:\n",
        "Binning / Regression / Clustering"
      ]
    },
    {
      "cell_type": "markdown",
      "metadata": {
        "id": "Y-NPnEvOngNw"
      },
      "source": [
        "## Data cleaning\n",
        "\n",
        "Real-world data tend to be noisy. Noisy data is data with a large amount of additional meaningless information in it called noise. Data cleaning (or data cleansing) routines attempt to smooth out noise while identifying outliers in the data."
      ]
    },
    {
      "cell_type": "markdown",
      "metadata": {
        "id": "FjwoH-7unxsp"
      },
      "source": [
        "There are three data smoothing techniques as follows:\n",
        "\n",
        "1. Binning : Binning methods smooth a sorted data value by consulting its “neighborhood”, that is, the values around it.\n",
        "\n",
        "2. Regression : It conforms data values to a function. Linear regression involves finding the “best” line to fit two attributes (or variables) so that one attribute can be used to predict the other.\n",
        "\n",
        "3. Outlier analysis : Outliers may be detected by clustering, for example, where similar values are organized into groups, or “clusters”. Intuitively, values that fall outside of the set of clusters may be considered as outliers."
      ]
    },
    {
      "cell_type": "markdown",
      "metadata": {
        "id": "xfqMRjMxVsRC"
      },
      "source": [
        "## 1. Binning"
      ]
    },
    {
      "cell_type": "markdown",
      "metadata": {
        "id": "4FynDIRfoUZB"
      },
      "source": [
        "Types of smoothing using binning:\n",
        "\n",
        "Smoothing by bin means : In smoothing by bin means, each value in a bin is replaced by the mean value of the bin.\n",
        "\n",
        "Smoothing by bin median : In this method each bin value is replaced by its bin median value.\n",
        "\n",
        "Smoothing by bin boundary : In smoothing by bin boundaries, the minimum and maximum values in a given bin are identified as the bin boundaries. Each bin value is then replaced by the closest boundary value."
      ]
    },
    {
      "cell_type": "markdown",
      "metadata": {
        "id": "OUUf2p-Q1uxW"
      },
      "source": [
        "Bin = [ 2, 6, 7, 9, 13, 20, 21, 25, 30 ]\n",
        "\n",
        "Partition using equal frequency approach:\n",
        "\n",
        "Bin 1 : 2, 6, 7\n",
        "\n",
        "Bin 2 : 9, 13, 20\n",
        "\n",
        "Bin 3 : 21, 24, 30\n",
        "\n",
        "Smoothing by bin mean :\n",
        "\n",
        "Bin 1 : 5, 5, 5\n",
        "\n",
        "Bin 2 : 14, 14, 14\n",
        "\n",
        "Bin 3 : 25, 25, 25\n",
        "\n",
        "Smoothing by bin median :\n",
        "\n",
        "Bin 1 : 6,6,6\n",
        "\n",
        "Bin 2 : 13,13,13\n",
        "\n",
        "Bin 3 : 24,24,24\n",
        "\n",
        "Smoothing by bin boundaries :\n",
        "\n",
        "Boundary_bins = [0,7,14,21,30]\n",
        "\n",
        "Bin = [ 2, 6, 7, 9, 13, 20, 21, 25, 30 ]\n",
        "\n",
        "New_bin = [ (0,7] , (0,7] , (0,7] , (7,14], (7,14], (14,21], (14,21], (25,30] , (25,30]  ] \n"
      ]
    },
    {
      "cell_type": "code",
      "metadata": {
        "id": "C8oT9zrZLLS-"
      },
      "source": [
        "import pandas as pd\n",
        "import matplotlib.pyplot as plt"
      ],
      "execution_count": null,
      "outputs": []
    },
    {
      "cell_type": "code",
      "metadata": {
        "id": "R0w918s5ItpH"
      },
      "source": [
        "ages = [20, 22, 25, 27, 21, 23, 37, 31, 61, 45, 41, 32]\n",
        "\n",
        "bound_bins = [18, 25, 35, 60, 100]\n",
        "categories = ['18_25','25_35' , '35_60' , '60_100' ]"
      ],
      "execution_count": null,
      "outputs": []
    },
    {
      "cell_type": "code",
      "metadata": {
        "id": "GqYvBfn0LOY3"
      },
      "source": [
        "cats = pd.cut(ages, bound_bins)"
      ],
      "execution_count": null,
      "outputs": []
    },
    {
      "cell_type": "code",
      "metadata": {
        "colab": {
          "base_uri": "https://localhost:8080/"
        },
        "id": "0Ii7pvh8JoBR",
        "outputId": "8fc255e9-b075-4b8e-bd92-0a618788fd03"
      },
      "source": [
        "cats"
      ],
      "execution_count": null,
      "outputs": [
        {
          "output_type": "execute_result",
          "data": {
            "text/plain": [
              "[(18, 25], (18, 25], (18, 25], (25, 35], (18, 25], ..., (25, 35], (60, 100], (35, 60], (35, 60], (25, 35]]\n",
              "Length: 12\n",
              "Categories (4, interval[int64]): [(18, 25] < (25, 35] < (35, 60] < (60, 100]]"
            ]
          },
          "metadata": {
            "tags": []
          },
          "execution_count": 4
        }
      ]
    },
    {
      "cell_type": "code",
      "metadata": {
        "colab": {
          "base_uri": "https://localhost:8080/"
        },
        "id": "q0mucWXATdfd",
        "outputId": "2cbd535d-f0b9-42e9-dd9d-748e9fbf5172"
      },
      "source": [
        "cats[3]"
      ],
      "execution_count": null,
      "outputs": [
        {
          "output_type": "execute_result",
          "data": {
            "text/plain": [
              "Interval(25, 35, closed='right')"
            ]
          },
          "metadata": {
            "tags": []
          },
          "execution_count": 7
        }
      ]
    },
    {
      "cell_type": "code",
      "metadata": {
        "colab": {
          "base_uri": "https://localhost:8080/"
        },
        "id": "UgYEAA13L1E8",
        "outputId": "500d807d-a00b-4884-cc90-8ce0b0db1958"
      },
      "source": [
        "y = pd.value_counts(cats)\n",
        "y"
      ],
      "execution_count": null,
      "outputs": [
        {
          "output_type": "execute_result",
          "data": {
            "text/plain": [
              "(18, 25]     5\n",
              "(35, 60]     3\n",
              "(25, 35]     3\n",
              "(60, 100]    1\n",
              "dtype: int64"
            ]
          },
          "metadata": {
            "tags": []
          },
          "execution_count": 8
        }
      ]
    },
    {
      "cell_type": "code",
      "metadata": {
        "colab": {
          "base_uri": "https://localhost:8080/",
          "height": 266
        },
        "id": "-OkWk30iSwGp",
        "outputId": "f0eb8ec0-6231-40e5-8612-47ee64e295e1"
      },
      "source": [
        "plt.bar(categories,y)\n",
        "plt.show()"
      ],
      "execution_count": null,
      "outputs": [
        {
          "output_type": "display_data",
          "data": {
            "image/png": "[encoded data removed]",
            "text/plain": [
              "<Figure size 432x288 with 1 Axes>"
            ]
          },
          "metadata": {
            "tags": [],
            "needs_background": "light"
          }
        }
      ]
    },
    {
      "cell_type": "code",
      "metadata": {
        "id": "lN6gc8t9mCEW"
      },
      "source": [
        "ages = [20, 22, 25, 27, 21, 23, 37, 31, 61, 45, 41, 32]"
      ],
      "execution_count": null,
      "outputs": []
    },
    {
      "cell_type": "code",
      "metadata": {
        "id": "o-SmT9MNQLlZ"
      },
      "source": [
        "cut_labels = ['young', 'adult', 'old', 'very_old']\n",
        "cut_bins = [18, 25, 35, 60, 100]\n",
        "cats = pd.cut(ages, bins=cut_bins, labels=cut_labels)"
      ],
      "execution_count": null,
      "outputs": []
    },
    {
      "cell_type": "code",
      "metadata": {
        "colab": {
          "base_uri": "https://localhost:8080/",
          "height": 35
        },
        "id": "KtYj7X9nRPqL",
        "outputId": "d5ad8462-800a-42e8-ae65-f3e1bab37abe"
      },
      "source": [
        "cats[1]"
      ],
      "execution_count": null,
      "outputs": [
        {
          "output_type": "execute_result",
          "data": {
            "application/vnd.google.colaboratory.intrinsic+json": {
              "type": "string"
            },
            "text/plain": [
              "'young'"
            ]
          },
          "metadata": {
            "tags": []
          },
          "execution_count": 13
        }
      ]
    },
    {
      "cell_type": "code",
      "metadata": {
        "colab": {
          "base_uri": "https://localhost:8080/"
        },
        "id": "qQVNgIqhSjHH",
        "outputId": "b79b972b-ff56-4171-8442-972f131cd3ed"
      },
      "source": [
        "y = pd.value_counts(cats)\n",
        "y"
      ],
      "execution_count": null,
      "outputs": [
        {
          "output_type": "execute_result",
          "data": {
            "text/plain": [
              "young       5\n",
              "old         3\n",
              "adult       3\n",
              "very_old    1\n",
              "dtype: int64"
            ]
          },
          "metadata": {
            "tags": []
          },
          "execution_count": 89
        }
      ]
    },
    {
      "cell_type": "code",
      "metadata": {
        "colab": {
          "base_uri": "https://localhost:8080/",
          "height": 266
        },
        "id": "35QwKYwMRmrO",
        "outputId": "11fe1da0-7e89-4a5f-ac56-11edb51fc797"
      },
      "source": [
        "plt.bar(cut_labels,y,width= 0.7)\n",
        "plt.show()"
      ],
      "execution_count": null,
      "outputs": [
        {
          "output_type": "display_data",
          "data": {
            "image/png": "[encoded data removed]",
            "text/plain": [
              "<Figure size 432x288 with 1 Axes>"
            ]
          },
          "metadata": {
            "tags": [],
            "needs_background": "light"
          }
        }
      ]
    },
    {
      "cell_type": "code",
      "metadata": {
        "id": "3G0kjZ7xPc-p"
      },
      "source": [
        "cats2 = pd.qcut(ages, q = 4)"
      ],
      "execution_count": null,
      "outputs": []
    },
    {
      "cell_type": "code",
      "metadata": {
        "colab": {
          "base_uri": "https://localhost:8080/"
        },
        "id": "9bxau8eZP1sX",
        "outputId": "e6a8fd9e-794a-475b-a5e5-d9891f62a128"
      },
      "source": [
        "cats2"
      ],
      "execution_count": null,
      "outputs": [
        {
          "output_type": "execute_result",
          "data": {
            "text/plain": [
              "[(19.999, 22.75], (19.999, 22.75], (22.75, 29.0], (22.75, 29.0], (19.999, 22.75], ..., (29.0, 38.0], (38.0, 61.0], (38.0, 61.0], (38.0, 61.0], (29.0, 38.0]]\n",
              "Length: 12\n",
              "Categories (4, interval[float64]): [(19.999, 22.75] < (22.75, 29.0] < (29.0, 38.0] < (38.0, 61.0]]"
            ]
          },
          "metadata": {
            "tags": []
          },
          "execution_count": 98
        }
      ]
    },
    {
      "cell_type": "code",
      "metadata": {
        "colab": {
          "base_uri": "https://localhost:8080/"
        },
        "id": "VL21FeopQJEL",
        "outputId": "10dc62c7-3fe3-4917-d4e7-ee54c556877d"
      },
      "source": [
        "y = pd.value_counts(cats2)\n",
        "y"
      ],
      "execution_count": null,
      "outputs": [
        {
          "output_type": "execute_result",
          "data": {
            "text/plain": [
              "(38.0, 61.0]       3\n",
              "(29.0, 38.0]       3\n",
              "(22.75, 29.0]      3\n",
              "(19.999, 22.75]    3\n",
              "dtype: int64"
            ]
          },
          "metadata": {
            "tags": []
          },
          "execution_count": 100
        }
      ]
    },
    {
      "cell_type": "markdown",
      "metadata": {
        "id": "KFJ-ZA2EVv1R"
      },
      "source": [
        "## 2. Regression\n",
        "\n",
        "Used to predict for individuals on the basis of information gained from a previous sample of similar individuals"
      ]
    },
    {
      "cell_type": "markdown",
      "metadata": {
        "id": "bV4R2RkWWdD4"
      },
      "source": [
        "## 3. Clustering \n",
        "\n",
        "Clustering is the task of dividing the data points into a number of groups (you choose it) such that data points in the same groups are more similar to other data points in the same group and dissimilar to the data points in other groups.\n"
      ]
    },
    {
      "cell_type": "markdown",
      "metadata": {
        "id": "zKM9iF6AHqBO"
      },
      "source": [
        "\n",
        "# Sampling"
      ]
    },
    {
      "cell_type": "markdown",
      "metadata": {
        "id": "vPJsyURPHstN"
      },
      "source": [
        "- What is Sampling ?\n",
        "\n",
        "= Sampling is a method that allows us to get information about the population based on the statistics from a subset of the population (sample), without having to investigate every individual.\n",
        "\n",
        "Let’s understand this at a more intuitive level through an example.\n",
        "\n",
        "We want to find the average height of all adult males in Alexandria. The population of Alexandria is nearly 5.2 millions according to October 2018 population.That is almost impossible to find the average male height of all males in Alexandria. So we choose a ***Sample*** \"A group of people as well represantitives for the population to find their average\".\n",
        "\n",
        "- Why only having a sample from the data? Why not having all the data?\n",
        "\n",
        "Seeking all data is:\n",
        "\n",
        "1) Time and money consuming.\n",
        "\n",
        "2) Not practical.\n",
        "\n",
        "3) The memory of our Devices and Clouds are limited - Google Colab provides 12 GB memory for example.\n",
        "\n",
        "- Do we need rules for sampling ? Or we just take a **sample**?\n",
        "\n",
        "Let's take our example of finding the average male height; and let’s say we go to a basketball court and take the average height of all the professional basketball players as our sample. This will not be considered a good sample because generally, a basketball player is taller than an average male and it will give us a bad estimate of the average male’s height."
      ]
    },
    {
      "cell_type": "markdown",
      "metadata": {
        "id": "HjLwC6q_NZYE"
      },
      "source": [
        "## Steps for Sampling\n",
        "\n",
        "- Step 1 : The first stage in the sampling process is to clearly define the target population. \n",
        "\n",
        "For our example : Only males who live in Alexandria, above 18 years old.\n",
        "\n",
        " - Step 2 : Sampling Frame – It is a list of items or people forming a population from which the sample is taken.\n",
        "\n",
        "For our example : A list contain all the names of the above 18 years old males in Alexandria.\n",
        "\n",
        " - Step 3 : Choose sampling methods.\n",
        "\n",
        "We will discuss this later in this session\n",
        "\n",
        " - Step 4 : Define sample size.\n",
        "\n",
        "Sample Size – It is the number of individuals or items to be taken in a sample that would be enough to make inferences/deductions about the population with the desired level of accuracy and precision.\n",
        "\n",
        "Larger the sample size, more accurate our inference about the population would be.\n",
        "\n",
        "For our example : Let's say 30,000 adult males from Alexandria.\n",
        "\n",
        " - Step 5 : Collect the data."
      ]
    },
    {
      "cell_type": "markdown",
      "metadata": {
        "id": "dQagwWM_P0wQ"
      },
      "source": [
        "# Different Types of Sampling Techniques\n",
        "\n",
        " - **Probability Sampling**: In probability sampling, every element of the population has an equal chance of being selected. Probability sampling gives us the best chance to create a sample that is truly representative of the population.\n",
        "\n",
        " - **Non-Probability Sampling**: In non-probability sampling, all elements do not have an equal chance of being selected. Consequently, there is a significant risk of ending up with a non-representative sample which does not produce generalizable results.\n",
        "\n",
        "##Types of Probability Sampling\n",
        "\n",
        "## - Simple Random Sampling\n",
        "In a simple random sample, every member of the population has an equal chance of being selected. Your sampling frame should include the whole population.To conduct this type of sampling, you can use tools like random number generators or other techniques that are based entirely on chance.\n",
        "\n",
        " - Our example:\n",
        "\n",
        "You want to select a simple random sample of 30,000 adult males of Alexandria. You assign a number to every adult male in the database from 1 to 3 millions, and use a random number generator to select 30,000 numbers.\n",
        "\n",
        "## - Systematic sampling\n",
        "Systematic sampling is similar to simple random sampling, but it is usually slightly easier to conduct. Every member of the population is listed with a number, but instead of randomly generating numbers, individuals are chosen at regular intervals.\n",
        "\n",
        "ex : sample : (6,26,36, ... , 166, ....).\n",
        "\n",
        "## - Stratified sampling\n",
        "Stratified sampling involves dividing the population into subpopulations that may differ in important ways. It allows you draw more precise conclusions by ensuring that every subgroup is properly represented in the sample.\n",
        "\n",
        "To use this sampling method, you divide the population into subgroups (called strata) based on the relevant characteristic (e.g. gender, age range, income bracket, job role).\n",
        "\n",
        "ex : samples are according to Age : ( [18,25] , [26,30] , [31,35] , .... ).\n",
        "\n",
        "## - Cluster sampling\n",
        "Cluster sampling also involves dividing the population into subgroups, but each subgroup should have similar characteristics to the whole sample. Instead of sampling individuals from each subgroup, you randomly select entire subgroups.\n",
        "\n",
        "1) Create subgroups that are similar to one another.\n",
        "\n",
        "2) Choose a random subgroup."
      ]
    },
    {
      "cell_type": "markdown",
      "metadata": {
        "id": "Gtssaco-TWu6"
      },
      "source": [
        "## Non-probability sampling methods\n",
        "In a non-probability sample, individuals are selected based on non-random criteria, and not every individual has a chance of being included.\n",
        "\n",
        "##  - Convenience sampling\n",
        "A convenience sample simply includes the individuals who happen to be most accessible to the researcher.\n",
        "\n",
        "our ex: Taking my friends and family as a sample.\n",
        "\n",
        "## - Voluntary response sampling\n",
        "Similar to a convenience sample, a voluntary response sample is mainly based on ease of access. Instead of the researcher choosing participants and directly contacting them, people volunteer themselves (e.g. by responding to a public online survey).\n",
        "\n",
        "## - Judgment Sampling\n",
        "It depends on the judgment of the experts when choosing whom to ask to participate.\n",
        "\n",
        "## - Snowball sampling\n",
        "If the population is hard to access, snowball sampling can be used to recruit participants via other participants. The number of people you have access to “snowballs” as you get in contact with more people."
      ]
    },
    {
      "cell_type": "code",
      "metadata": {
        "colab": {
          "base_uri": "https://localhost:8080/"
        },
        "id": "XSP3P3V0U6UQ",
        "outputId": "443db530-8d0d-4d4d-bc2e-b250d45c77cf"
      },
      "source": [
        "# Simple random sampling:\n",
        "import numpy as np\n",
        "\n",
        "datastored  = np.array([12,20,34,32,13,31,12,76,42,78,10,54,12,13])\n",
        "index_sample= np.random.choice(range(14), 5, replace=False)\n",
        "index_sample"
      ],
      "execution_count": null,
      "outputs": [
        {
          "output_type": "execute_result",
          "data": {
            "text/plain": [
              "array([ 5,  4,  8, 10,  1])"
            ]
          },
          "metadata": {
            "tags": []
          },
          "execution_count": 20
        }
      ]
    },
    {
      "cell_type": "code",
      "metadata": {
        "colab": {
          "base_uri": "https://localhost:8080/"
        },
        "id": "L7ZzDBW9YvLA",
        "outputId": "74e68ac4-a724-4113-9605-fc2ed7109261"
      },
      "source": [
        "rand_sampled_data = []\n",
        "for index in index_sample:\n",
        "  rand_sampled_data.append(datastored[index])\n",
        "print(rand_sampled_data)"
      ],
      "execution_count": null,
      "outputs": [
        {
          "output_type": "stream",
          "text": [
            "[31, 13, 42, 10, 20]\n"
          ],
          "name": "stdout"
        }
      ]
    },
    {
      "cell_type": "code",
      "metadata": {
        "colab": {
          "base_uri": "https://localhost:8080/"
        },
        "id": "RjQJf2OPZ8S-",
        "outputId": "d3a318ae-591c-4812-d354-043ea1988350"
      },
      "source": [
        "# Systematic sampling:\n",
        "\n",
        "index_sample = range(3,14,2)  ### 3,5,7,9,11,13\n",
        "sys_sampled_data = []\n",
        "\n",
        "for index in index_sample:\n",
        "  sys_sampled_data.append(datastored[index])\n",
        "print(sys_sampled_data)"
      ],
      "execution_count": null,
      "outputs": [
        {
          "output_type": "stream",
          "text": [
            "[32, 31, 76, 78, 54, 13]\n"
          ],
          "name": "stdout"
        }
      ]
    },
    {
      "cell_type": "code",
      "metadata": {
        "id": "cW43I9Z8aP4V"
      },
      "source": [
        "import pandas as pd\n",
        "\n",
        "df = pd.read_csv('/content/Social_Network_Ads.csv')"
      ],
      "execution_count": null,
      "outputs": []
    },
    {
      "cell_type": "code",
      "metadata": {
        "colab": {
          "base_uri": "https://localhost:8080/",
          "height": 399
        },
        "id": "2NKmz6nKbPO0",
        "outputId": "2b47ea1a-feab-4211-dd1f-a0da2f4c6164"
      },
      "source": [
        "df"
      ],
      "execution_count": null,
      "outputs": [
        {
          "output_type": "execute_result",
          "data": {
            "text/html": [
              "<div>\n",
              "<style scoped>\n",
              "    .dataframe tbody tr th:only-of-type {\n",
              "        vertical-align: middle;\n",
              "    }\n",
              "\n",
              "    .dataframe tbody tr th {\n",
              "        vertical-align: top;\n",
              "    }\n",
              "\n",
              "    .dataframe thead th {\n",
              "        text-align: right;\n",
              "    }\n",
              "</style>\n",
              "<table border=\"1\" class=\"dataframe\">\n",
              "  <thead>\n",
              "    <tr style=\"text-align: right;\">\n",
              "      <th></th>\n",
              "      <th>User ID</th>\n",
              "      <th>Age</th>\n",
              "      <th>EstimatedSalary</th>\n",
              "      <th>Purchased</th>\n",
              "    </tr>\n",
              "  </thead>\n",
              "  <tbody>\n",
              "    <tr>\n",
              "      <th>0</th>\n",
              "      <td>15624510</td>\n",
              "      <td>19</td>\n",
              "      <td>19000</td>\n",
              "      <td>0</td>\n",
              "    </tr>\n",
              "    <tr>\n",
              "      <th>1</th>\n",
              "      <td>15810944</td>\n",
              "      <td>35</td>\n",
              "      <td>20000</td>\n",
              "      <td>0</td>\n",
              "    </tr>\n",
              "    <tr>\n",
              "      <th>2</th>\n",
              "      <td>15668575</td>\n",
              "      <td>26</td>\n",
              "      <td>43000</td>\n",
              "      <td>0</td>\n",
              "    </tr>\n",
              "    <tr>\n",
              "      <th>3</th>\n",
              "      <td>15603246</td>\n",
              "      <td>27</td>\n",
              "      <td>57000</td>\n",
              "      <td>0</td>\n",
              "    </tr>\n",
              "    <tr>\n",
              "      <th>4</th>\n",
              "      <td>15804002</td>\n",
              "      <td>19</td>\n",
              "      <td>76000</td>\n",
              "      <td>0</td>\n",
              "    </tr>\n",
              "    <tr>\n",
              "      <th>...</th>\n",
              "      <td>...</td>\n",
              "      <td>...</td>\n",
              "      <td>...</td>\n",
              "      <td>...</td>\n",
              "    </tr>\n",
              "    <tr>\n",
              "      <th>395</th>\n",
              "      <td>15691863</td>\n",
              "      <td>46</td>\n",
              "      <td>41000</td>\n",
              "      <td>1</td>\n",
              "    </tr>\n",
              "    <tr>\n",
              "      <th>396</th>\n",
              "      <td>15706071</td>\n",
              "      <td>51</td>\n",
              "      <td>23000</td>\n",
              "      <td>1</td>\n",
              "    </tr>\n",
              "    <tr>\n",
              "      <th>397</th>\n",
              "      <td>15654296</td>\n",
              "      <td>50</td>\n",
              "      <td>20000</td>\n",
              "      <td>1</td>\n",
              "    </tr>\n",
              "    <tr>\n",
              "      <th>398</th>\n",
              "      <td>15755018</td>\n",
              "      <td>36</td>\n",
              "      <td>33000</td>\n",
              "      <td>0</td>\n",
              "    </tr>\n",
              "    <tr>\n",
              "      <th>399</th>\n",
              "      <td>15594041</td>\n",
              "      <td>49</td>\n",
              "      <td>36000</td>\n",
              "      <td>1</td>\n",
              "    </tr>\n",
              "  </tbody>\n",
              "</table>\n",
              "<p>400 rows × 4 columns</p>\n",
              "</div>"
            ],
            "text/plain": [
              "      User ID  Age  EstimatedSalary  Purchased\n",
              "0    15624510   19            19000          0\n",
              "1    15810944   35            20000          0\n",
              "2    15668575   26            43000          0\n",
              "3    15603246   27            57000          0\n",
              "4    15804002   19            76000          0\n",
              "..        ...  ...              ...        ...\n",
              "395  15691863   46            41000          1\n",
              "396  15706071   51            23000          1\n",
              "397  15654296   50            20000          1\n",
              "398  15755018   36            33000          0\n",
              "399  15594041   49            36000          1\n",
              "\n",
              "[400 rows x 4 columns]"
            ]
          },
          "metadata": {
            "tags": []
          },
          "execution_count": 9
        }
      ]
    },
    {
      "cell_type": "code",
      "metadata": {
        "colab": {
          "base_uri": "https://localhost:8080/",
          "height": 927
        },
        "id": "JEeZUxQtbSxt",
        "outputId": "5bace82d-255b-4879-e183-1e078200499d"
      },
      "source": [
        "sample_df = df.sample(30)\n",
        "sample_df"
      ],
      "execution_count": null,
      "outputs": [
        {
          "output_type": "execute_result",
          "data": {
            "text/html": [
              "<div>\n",
              "<style scoped>\n",
              "    .dataframe tbody tr th:only-of-type {\n",
              "        vertical-align: middle;\n",
              "    }\n",
              "\n",
              "    .dataframe tbody tr th {\n",
              "        vertical-align: top;\n",
              "    }\n",
              "\n",
              "    .dataframe thead th {\n",
              "        text-align: right;\n",
              "    }\n",
              "</style>\n",
              "<table border=\"1\" class=\"dataframe\">\n",
              "  <thead>\n",
              "    <tr style=\"text-align: right;\">\n",
              "      <th></th>\n",
              "      <th>User ID</th>\n",
              "      <th>Age</th>\n",
              "      <th>EstimatedSalary</th>\n",
              "      <th>Purchased</th>\n",
              "    </tr>\n",
              "  </thead>\n",
              "  <tbody>\n",
              "    <tr>\n",
              "      <th>338</th>\n",
              "      <td>15810800</td>\n",
              "      <td>38</td>\n",
              "      <td>55000</td>\n",
              "      <td>0</td>\n",
              "    </tr>\n",
              "    <tr>\n",
              "      <th>244</th>\n",
              "      <td>15586996</td>\n",
              "      <td>41</td>\n",
              "      <td>72000</td>\n",
              "      <td>0</td>\n",
              "    </tr>\n",
              "    <tr>\n",
              "      <th>301</th>\n",
              "      <td>15678201</td>\n",
              "      <td>48</td>\n",
              "      <td>74000</td>\n",
              "      <td>1</td>\n",
              "    </tr>\n",
              "    <tr>\n",
              "      <th>333</th>\n",
              "      <td>15587177</td>\n",
              "      <td>40</td>\n",
              "      <td>65000</td>\n",
              "      <td>0</td>\n",
              "    </tr>\n",
              "    <tr>\n",
              "      <th>128</th>\n",
              "      <td>15722758</td>\n",
              "      <td>30</td>\n",
              "      <td>17000</td>\n",
              "      <td>0</td>\n",
              "    </tr>\n",
              "    <tr>\n",
              "      <th>105</th>\n",
              "      <td>15801658</td>\n",
              "      <td>21</td>\n",
              "      <td>72000</td>\n",
              "      <td>0</td>\n",
              "    </tr>\n",
              "    <tr>\n",
              "      <th>298</th>\n",
              "      <td>15675791</td>\n",
              "      <td>45</td>\n",
              "      <td>79000</td>\n",
              "      <td>0</td>\n",
              "    </tr>\n",
              "    <tr>\n",
              "      <th>193</th>\n",
              "      <td>15662901</td>\n",
              "      <td>19</td>\n",
              "      <td>70000</td>\n",
              "      <td>0</td>\n",
              "    </tr>\n",
              "    <tr>\n",
              "      <th>275</th>\n",
              "      <td>15727467</td>\n",
              "      <td>57</td>\n",
              "      <td>74000</td>\n",
              "      <td>1</td>\n",
              "    </tr>\n",
              "    <tr>\n",
              "      <th>177</th>\n",
              "      <td>15594577</td>\n",
              "      <td>25</td>\n",
              "      <td>22000</td>\n",
              "      <td>0</td>\n",
              "    </tr>\n",
              "    <tr>\n",
              "      <th>273</th>\n",
              "      <td>15589449</td>\n",
              "      <td>39</td>\n",
              "      <td>106000</td>\n",
              "      <td>1</td>\n",
              "    </tr>\n",
              "    <tr>\n",
              "      <th>311</th>\n",
              "      <td>15622585</td>\n",
              "      <td>39</td>\n",
              "      <td>96000</td>\n",
              "      <td>1</td>\n",
              "    </tr>\n",
              "    <tr>\n",
              "      <th>246</th>\n",
              "      <td>15638003</td>\n",
              "      <td>35</td>\n",
              "      <td>50000</td>\n",
              "      <td>0</td>\n",
              "    </tr>\n",
              "    <tr>\n",
              "      <th>75</th>\n",
              "      <td>15651983</td>\n",
              "      <td>34</td>\n",
              "      <td>112000</td>\n",
              "      <td>1</td>\n",
              "    </tr>\n",
              "    <tr>\n",
              "      <th>185</th>\n",
              "      <td>15814816</td>\n",
              "      <td>31</td>\n",
              "      <td>66000</td>\n",
              "      <td>0</td>\n",
              "    </tr>\n",
              "    <tr>\n",
              "      <th>252</th>\n",
              "      <td>15795298</td>\n",
              "      <td>48</td>\n",
              "      <td>134000</td>\n",
              "      <td>1</td>\n",
              "    </tr>\n",
              "    <tr>\n",
              "      <th>292</th>\n",
              "      <td>15625395</td>\n",
              "      <td>55</td>\n",
              "      <td>39000</td>\n",
              "      <td>1</td>\n",
              "    </tr>\n",
              "    <tr>\n",
              "      <th>358</th>\n",
              "      <td>15573926</td>\n",
              "      <td>40</td>\n",
              "      <td>71000</td>\n",
              "      <td>1</td>\n",
              "    </tr>\n",
              "    <tr>\n",
              "      <th>392</th>\n",
              "      <td>15748589</td>\n",
              "      <td>45</td>\n",
              "      <td>45000</td>\n",
              "      <td>1</td>\n",
              "    </tr>\n",
              "    <tr>\n",
              "      <th>354</th>\n",
              "      <td>15699619</td>\n",
              "      <td>36</td>\n",
              "      <td>99000</td>\n",
              "      <td>1</td>\n",
              "    </tr>\n",
              "    <tr>\n",
              "      <th>200</th>\n",
              "      <td>15628523</td>\n",
              "      <td>35</td>\n",
              "      <td>39000</td>\n",
              "      <td>0</td>\n",
              "    </tr>\n",
              "    <tr>\n",
              "      <th>135</th>\n",
              "      <td>15578006</td>\n",
              "      <td>23</td>\n",
              "      <td>63000</td>\n",
              "      <td>0</td>\n",
              "    </tr>\n",
              "    <tr>\n",
              "      <th>323</th>\n",
              "      <td>15619465</td>\n",
              "      <td>48</td>\n",
              "      <td>30000</td>\n",
              "      <td>1</td>\n",
              "    </tr>\n",
              "    <tr>\n",
              "      <th>160</th>\n",
              "      <td>15744279</td>\n",
              "      <td>32</td>\n",
              "      <td>100000</td>\n",
              "      <td>1</td>\n",
              "    </tr>\n",
              "    <tr>\n",
              "      <th>33</th>\n",
              "      <td>15776733</td>\n",
              "      <td>28</td>\n",
              "      <td>44000</td>\n",
              "      <td>0</td>\n",
              "    </tr>\n",
              "    <tr>\n",
              "      <th>378</th>\n",
              "      <td>15577806</td>\n",
              "      <td>41</td>\n",
              "      <td>87000</td>\n",
              "      <td>1</td>\n",
              "    </tr>\n",
              "    <tr>\n",
              "      <th>83</th>\n",
              "      <td>15711218</td>\n",
              "      <td>35</td>\n",
              "      <td>88000</td>\n",
              "      <td>0</td>\n",
              "    </tr>\n",
              "    <tr>\n",
              "      <th>251</th>\n",
              "      <td>15723373</td>\n",
              "      <td>37</td>\n",
              "      <td>52000</td>\n",
              "      <td>0</td>\n",
              "    </tr>\n",
              "    <tr>\n",
              "      <th>111</th>\n",
              "      <td>15660200</td>\n",
              "      <td>37</td>\n",
              "      <td>71000</td>\n",
              "      <td>0</td>\n",
              "    </tr>\n",
              "    <tr>\n",
              "      <th>291</th>\n",
              "      <td>15596522</td>\n",
              "      <td>49</td>\n",
              "      <td>89000</td>\n",
              "      <td>1</td>\n",
              "    </tr>\n",
              "  </tbody>\n",
              "</table>\n",
              "</div>"
            ],
            "text/plain": [
              "      User ID  Age  EstimatedSalary  Purchased\n",
              "338  15810800   38            55000          0\n",
              "244  15586996   41            72000          0\n",
              "301  15678201   48            74000          1\n",
              "333  15587177   40            65000          0\n",
              "128  15722758   30            17000          0\n",
              "105  15801658   21            72000          0\n",
              "298  15675791   45            79000          0\n",
              "193  15662901   19            70000          0\n",
              "275  15727467   57            74000          1\n",
              "177  15594577   25            22000          0\n",
              "273  15589449   39           106000          1\n",
              "311  15622585   39            96000          1\n",
              "246  15638003   35            50000          0\n",
              "75   15651983   34           112000          1\n",
              "185  15814816   31            66000          0\n",
              "252  15795298   48           134000          1\n",
              "292  15625395   55            39000          1\n",
              "358  15573926   40            71000          1\n",
              "392  15748589   45            45000          1\n",
              "354  15699619   36            99000          1\n",
              "200  15628523   35            39000          0\n",
              "135  15578006   23            63000          0\n",
              "323  15619465   48            30000          1\n",
              "160  15744279   32           100000          1\n",
              "33   15776733   28            44000          0\n",
              "378  15577806   41            87000          1\n",
              "83   15711218   35            88000          0\n",
              "251  15723373   37            52000          0\n",
              "111  15660200   37            71000          0\n",
              "291  15596522   49            89000          1"
            ]
          },
          "metadata": {
            "tags": []
          },
          "execution_count": 26
        }
      ]
    },
    {
      "cell_type": "code",
      "metadata": {
        "id": "bT-dSf8uc2SO",
        "colab": {
          "base_uri": "https://localhost:8080/"
        },
        "outputId": "60adf92f-3473-44a4-e861-bdc8cc658596"
      },
      "source": [
        "X = df.iloc[:,:-1].values\n",
        "y = df['Purchased']\n",
        "y.shape"
      ],
      "execution_count": null,
      "outputs": [
        {
          "output_type": "execute_result",
          "data": {
            "text/plain": [
              "(400,)"
            ]
          },
          "metadata": {
            "tags": []
          },
          "execution_count": 30
        }
      ]
    },
    {
      "cell_type": "code",
      "metadata": {
        "id": "VFoAgX5ocwjX"
      },
      "source": [
        "# Stratified sampling:\n",
        "\n",
        "from sklearn.model_selection import train_test_split\n",
        "\n",
        "X_train, X_sampled, y_train, y_sampled = train_test_split(X, y,\n",
        "stratify=y,\n",
        "test_size=0.1)"
      ],
      "execution_count": null,
      "outputs": []
    },
    {
      "cell_type": "code",
      "metadata": {
        "colab": {
          "base_uri": "https://localhost:8080/"
        },
        "id": "YW9Zfzsud81G",
        "outputId": "12f48ec5-0c08-4f08-b4a3-0fb0820395dd"
      },
      "source": [
        "X_sampled.shape"
      ],
      "execution_count": null,
      "outputs": [
        {
          "output_type": "execute_result",
          "data": {
            "text/plain": [
              "(40, 3)"
            ]
          },
          "metadata": {
            "tags": []
          },
          "execution_count": 34
        }
      ]
    },
    {
      "cell_type": "code",
      "metadata": {
        "colab": {
          "base_uri": "https://localhost:8080/"
        },
        "id": "gtjB1UxJeKrK",
        "outputId": "da7c9586-1c8c-4039-ebac-f8419ccb2790"
      },
      "source": [
        "y_sampled.shape"
      ],
      "execution_count": null,
      "outputs": [
        {
          "output_type": "execute_result",
          "data": {
            "text/plain": [
              "(40,)"
            ]
          },
          "metadata": {
            "tags": []
          },
          "execution_count": 35
        }
      ]
    },
    {
      "cell_type": "markdown",
      "metadata": {
        "id": "tNkkOJfoe2OD"
      },
      "source": [
        "## Oversampling\n",
        "\n",
        "- What is it?\n",
        "\n",
        "To amplify the minority class so the dataset becomes balanced.\n",
        "\n",
        "- Why do we use it?\n",
        "\n",
        "Having an imbalanced dataset that leads that the machine learning model has a poor performance.\n",
        "\n",
        "- How is it done?\n",
        "\n",
        "By Synthetic Minority Oversampling Technique (SMOTE), SMOTE works by selecting examples that are close in the feature space, drawing a line between the examples in the feature space and drawing a new sample at a point along that line.\n"
      ]
    },
    {
      "cell_type": "code",
      "metadata": {
        "colab": {
          "base_uri": "https://localhost:8080/"
        },
        "id": "joxbz0X4giA1",
        "outputId": "8ab6a887-16f8-4a6e-98ce-e9362c3fc6dc"
      },
      "source": [
        "from collections import Counter\n",
        "\n",
        "counter = Counter(y)\n",
        "counter\n",
        "## 143 -> Purchased = 1\n",
        "## 257 -> Purchased = 0"
      ],
      "execution_count": null,
      "outputs": [
        {
          "output_type": "execute_result",
          "data": {
            "text/plain": [
              "Counter({0: 257, 1: 143})"
            ]
          },
          "metadata": {
            "tags": []
          },
          "execution_count": 36
        }
      ]
    },
    {
      "cell_type": "code",
      "metadata": {
        "id": "CfUwWPqrg1eV"
      },
      "source": [
        "from imblearn.over_sampling import SMOTE\n",
        "smote = SMOTE(ratio='minority')\n",
        "X_sm, y_sm = smote.fit_sample(X, y)"
      ],
      "execution_count": null,
      "outputs": []
    },
    {
      "cell_type": "code",
      "metadata": {
        "colab": {
          "base_uri": "https://localhost:8080/"
        },
        "id": "Yk4Uk0m1iRN9",
        "outputId": "fa2a0355-5d79-47f7-a3cf-7ec47f91acae"
      },
      "source": [
        "X_sm"
      ],
      "execution_count": null,
      "outputs": [
        {
          "output_type": "execute_result",
          "data": {
            "text/plain": [
              "array([[15624510,       19,    19000],\n",
              "       [15810944,       35,    20000],\n",
              "       [15668575,       26,    43000],\n",
              "       ...,\n",
              "       [15575583,       47,   130702],\n",
              "       [15731689,       37,    90557],\n",
              "       [15695634,       44,    90994]])"
            ]
          },
          "metadata": {
            "tags": []
          },
          "execution_count": 38
        }
      ]
    },
    {
      "cell_type": "code",
      "metadata": {
        "colab": {
          "base_uri": "https://localhost:8080/"
        },
        "id": "Svpgm32-iT4q",
        "outputId": "01b19af4-a387-4372-87f4-d9cda7ba234d"
      },
      "source": [
        "X_sm.shape"
      ],
      "execution_count": null,
      "outputs": [
        {
          "output_type": "execute_result",
          "data": {
            "text/plain": [
              "(514, 3)"
            ]
          },
          "metadata": {
            "tags": []
          },
          "execution_count": 39
        }
      ]
    },
    {
      "cell_type": "code",
      "metadata": {
        "colab": {
          "base_uri": "https://localhost:8080/"
        },
        "id": "eOLhSqToiWzK",
        "outputId": "31784b3f-6995-4ee4-9bcf-dc2f76100031"
      },
      "source": [
        "counter = Counter(y_sm)\n",
        "counter"
      ],
      "execution_count": null,
      "outputs": [
        {
          "output_type": "execute_result",
          "data": {
            "text/plain": [
              "Counter({0: 257, 1: 257})"
            ]
          },
          "metadata": {
            "tags": []
          },
          "execution_count": 40
        }
      ]
    },
    {
      "cell_type": "markdown",
      "metadata": {
        "id": "TjCvDc8vJSUP"
      },
      "source": [
        "## Resources:\n",
        "\n",
        " article : https://www.analyticsvidhya.com/blog/2019/09/data-scientists-guide-8-types-of-sampling-techniques/\n",
        "\n",
        " article : https://www.scribbr.com/methodology/sampling-methods/\n",
        " \n",
        " wiki article: https://en.wikipedia.org/wiki/Data_binning\n",
        "\n",
        " article: https://www.geeksforgeeks.org/ml-binning-or-discretization/\n",
        "\n",
        " SMOTE paper: https://arxiv.org/pdf/1106.1813.pdf"
      ]
    }
  ]
}